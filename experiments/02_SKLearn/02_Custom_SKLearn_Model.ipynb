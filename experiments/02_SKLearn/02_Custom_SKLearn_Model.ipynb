{
 "cells": [
  {
   "cell_type": "markdown",
   "metadata": {},
   "source": [
    "# Build a Custom SciKit Learn Model\n",
    "\n",
    "In this notebook we will demonstrate what is required to train and deploy a custom model on Sagemaker infrastructure. "
   ]
  },
  {
   "cell_type": "markdown",
   "metadata": {},
   "source": [
    "\n",
    "## Create a training script\n",
    "\n",
    "We need to define a model that can run on Sagemaker training hardware.\n",
    "\n",
    "Detailed guidance here https://sagemaker.readthedocs.io/en/stable/using_sklearn.html#preparing-the-scikit-learn-training-script\n"
   ]
  },
  {
   "cell_type": "code",
   "execution_count": 1,
   "metadata": {},
   "outputs": [
    {
     "name": "stdout",
     "output_type": "stream",
     "text": [
      "Writing sklearn_training_script.py\n"
     ]
    }
   ],
   "source": [
    "%%writefile sklearn_training_script.py\n",
    "\n",
    "import argparse\n",
    "import os\n",
    "\n",
    "import numpy as np\n",
    "import pandas as pd\n",
    "from sklearn.ensemble import RandomForestClassifier\n",
    "from sklearn.metrics import roc_auc_score\n",
    "from sklearn.externals import joblib\n",
    "\n",
    "\n",
    "# inference functions ---------------\n",
    "def model_fn(model_dir):\n",
    "    clf = joblib.load(os.path.join(model_dir, \"model.joblib\"))\n",
    "    return clf\n",
    "\n",
    "\n",
    "if __name__ =='__main__':\n",
    "    \n",
    "    #------------------------------- parsing input parameters (from command line)\n",
    "    print('extracting arguments')\n",
    "    parser = argparse.ArgumentParser()\n",
    "\n",
    "    # RandomForest hyperparameters\n",
    "    parser.add_argument('--n_estimators', type=int, default=10)\n",
    "    parser.add_argument('--min_samples_leaf', type=int, default=3)\n",
    "    \n",
    "    # Data, model, and output directories\n",
    "    parser.add_argument('--model_dir', type=str, default=os.environ.get('SM_MODEL_DIR'))\n",
    "    parser.add_argument('--train_dir', type=str, default=os.environ.get('SM_CHANNEL_TRAIN'))\n",
    "    parser.add_argument('--test_dir', type=str, default=os.environ.get('SM_CHANNEL_TEST'))\n",
    "    parser.add_argument('--train_file', type=str, default='train.csv')\n",
    "    parser.add_argument('--test_file', type=str, default='validation.csv')\n",
    "    parser.add_argument('--features', type=str, default='')  # explicitly name which features to use\n",
    "    parser.add_argument('--target_variable', type=str)  # explicitly name the column to be used as target\n",
    "\n",
    "    args, _ = parser.parse_known_args()\n",
    "    \n",
    "    #------------------------------- data preparation\n",
    "    print('reading data')\n",
    "    train_df = pd.read_csv(os.path.join(args.train_dir, args.train_file))\n",
    "    test_df = pd.read_csv(os.path.join(args.test_dir, args.test_file))\n",
    "\n",
    "    features = args.features.split()\n",
    "    if features == []:\n",
    "        features = list(train_df.columns)\n",
    "        features.remove(args.target_variable)\n",
    "    \n",
    "    print('building training and testing datasets')\n",
    "    X_train = train_df[features]\n",
    "    X_test = test_df[features]\n",
    "    y_train = train_df[args.target_variable]\n",
    "    y_test = test_df[args.target_variable]\n",
    "    \n",
    "    #------------------------------- model training\n",
    "    print('training model')\n",
    "    model = RandomForestClassifier(\n",
    "        n_estimators=args.n_estimators,\n",
    "        min_samples_leaf=args.min_samples_leaf,\n",
    "        n_jobs=-1)\n",
    "    \n",
    "    model.fit(X_train, y_train)\n",
    "    \n",
    "    #-------------------------------  model testing\n",
    "    print('testing model')\n",
    "    #abs_err = np.abs(model.predict_proba(X_test) - y_test)\n",
    "    roc_auc = roc_auc_score(y_test, model.predict_proba(X_test))\n",
    "    print(\"Validation AUC: \", roc_auc)\n",
    "        \n",
    "    #------------------------------- save model\n",
    "    path = os.path.join(args.model_dir, \"model.joblib\")\n",
    "    joblib.dump(model, path)\n",
    "    print('model saved at ' + path)"
   ]
  },
  {
   "cell_type": "markdown",
   "metadata": {},
   "source": [
    "\n",
    "#### Local training\n",
    "\n",
    "Script arguments allows us to remove from the script any SageMaker-specific configuration, and run locally\n",
    "\n",
    "**Note** This script relies on scikit-learn version 0.22 (Certain functions have been deprecated in 0.23)\n"
   ]
  },
  {
   "cell_type": "code",
   "execution_count": null,
   "metadata": {},
   "outputs": [],
   "source": [
    "! python sklearn_training_script.py \\\n",
    "    --n_estimators 100 \\\n",
    "    --min_samples_leaf 3 \\\n",
    "    --model_dir 'model/' \\\n",
    "    --train_dir '../../data/partitioned/' \\\n",
    "    --test_dir '../../data/partitioned/' \\\n",
    "    --train_file 'train.csv' \\\n",
    "    --test_file 'validation.csv' \\\n",
    "    --target_variable 'readmitted'\n"
   ]
  },
  {
   "cell_type": "markdown",
   "metadata": {},
   "source": [
    "## Create a script to execute training\n",
    "\n",
    "To build the model we execute on Sagemake infrastructure using the SKLearn Estimator.\n",
    "https://sagemaker.readthedocs.io/en/stable/frameworks/sklearn/sagemaker.sklearn.html\n",
    "\n",
    "Write out a script for this (that can be run locally or via the master RUN script)"
   ]
  },
  {
   "cell_type": "code",
   "execution_count": 3,
   "metadata": {},
   "outputs": [
    {
     "name": "stdout",
     "output_type": "stream",
     "text": [
      "Writing RUN_Sagemaker_Build.py\n"
     ]
    }
   ],
   "source": [
    "%%writefile RUN_Sagemaker_Build.py\n",
    "\n",
    "# We use the Estimator from the SageMaker Python SDK\n",
    "from sagemaker.sklearn.estimator import SKLearn\n",
    "from sagemaker.sklearn.model import SKLearnModel\n",
    "import sagemaker\n",
    "import sys\n",
    "\n",
    "sys.path.append(\"../../\")\n",
    "import utils.config as cfg\n",
    "import utils.models as mods\n",
    "\n",
    "config = cfg.get_config()\n",
    "region = config['region']\n",
    "target = config['target']\n",
    "bucket_name = config['bucket_name']\n",
    "bucket_prefix = config['bucket_prefix']\n",
    "sgmk_session = config['sgmk_session']\n",
    "sgmk_role = config['sgmk_role']\n",
    "sm_boto3 = config['sm_boto3']\n",
    "\n",
    "train_path_s3 = cfg.get_s3_path('train')\n",
    "test_path_s3 = cfg.get_s3_path('validation')\n",
    "\n",
    "sklearn_estimator = SKLearn(\n",
    "    entry_point='source/sklearn_training_script.py',\n",
    "    role=get_execution_role(),\n",
    "    instance_count=1,\n",
    "    instance_type='ml.m5.large',\n",
    "    framework_version='0.20.0',\n",
    "    base_job_name='rf-scikit',\n",
    "    metric_definitions=[\n",
    "        { 'Name': 'AUC', 'Regex': 'Validation AUC: ([0-9.]+).*$' },\n",
    "    ],\n",
    "    hyperparameters={\n",
    "        'n_estimators': 100,\n",
    "        'min_samples_leaf': 3,\n",
    "        'target_variable': target,\n",
    "    },\n",
    "    max_run=20*60,  # Maximum allowed active runtime (in seconds)\n",
    "    use_spot_instances=True,  # Use spot instances to reduce cost\n",
    "    max_wait=30*60,  # Maximum clock time (including spot delays)\n",
    ")\n",
    "\n",
    "sklearn_estimator.fit({'train':train_path_s3, 'test': test_path_s3}, wait=True)\n",
    "\n",
    "sklearn_estimator.latest_training_job.wait(logs='None')\n",
    "\n",
    "model_artifact = sm_boto3.describe_training_job(\n",
    "    TrainingJobName=sklearn_estimator.latest_training_job.name)['ModelArtifacts']['S3ModelArtifacts']\n",
    "\n",
    "print('Model artifact saved at:', model_artifact)\n",
    "\n",
    "model = SKLearnModel(\n",
    "    model_data=model_artifact,\n",
    "    framework_version='0.20.0',\n",
    "    py_version='py3',\n",
    "    role=get_execution_role(),\n",
    "    entry_point='sklearn_training_script.py',\n",
    ")\n",
    "\n",
    "predictor = model.deploy(\n",
    "    instance_type='ml.c5.large',\n",
    "    initial_instance_count=1,\n",
    ")\n",
    "\n",
    "mods.register(\"Custom_SKLearn_RF\", \"Random Forest Classifier with Added Features\", model_artifact, predictor)"
   ]
  },
  {
   "cell_type": "markdown",
   "metadata": {},
   "source": [
    "### Execute it"
   ]
  },
  {
   "cell_type": "code",
   "execution_count": null,
   "metadata": {},
   "outputs": [],
   "source": [
    "!python RUN_Sagemaker_Build.py"
   ]
  },
  {
   "cell_type": "code",
   "execution_count": null,
   "metadata": {},
   "outputs": [],
   "source": []
  }
 ],
 "metadata": {
  "kernelspec": {
   "display_name": "Python 3",
   "language": "python",
   "name": "python3"
  },
  "language_info": {
   "codemirror_mode": {
    "name": "ipython",
    "version": 3
   },
   "file_extension": ".py",
   "mimetype": "text/x-python",
   "name": "python",
   "nbconvert_exporter": "python",
   "pygments_lexer": "ipython3",
   "version": "3.9.1"
  }
 },
 "nbformat": 4,
 "nbformat_minor": 4
}
